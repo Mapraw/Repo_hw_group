{
 "cells": [
  {
   "cell_type": "code",
   "execution_count": 5,
   "metadata": {},
   "outputs": [
    {
     "name": "stdout",
     "output_type": "stream",
     "text": [
      "Collecting google\n",
      "  Downloading google-3.0.0-py2.py3-none-any.whl (45 kB)\n",
      "Requirement already satisfied: beautifulsoup4 in d:\\anaconda\\lib\\site-packages (from google) (4.9.3)\n",
      "Requirement already satisfied: soupsieve>1.2; python_version >= \"3.0\" in d:\\anaconda\\lib\\site-packages (from beautifulsoup4->google) (2.0.1)\n",
      "Installing collected packages: google\n",
      "Successfully installed google-3.0.0\n"
     ]
    }
   ],
   "source": [
    "! pip install google"
   ]
  },
  {
   "cell_type": "code",
   "execution_count": 6,
   "metadata": {
    "colab": {
     "base_uri": "https://localhost:8080/"
    },
    "id": "PzUwRlPGGWpW",
    "outputId": "c015bc7c-04c0-4dc1-b7cf-c76eadbb77e0"
   },
   "outputs": [
    {
     "ename": "ModuleNotFoundError",
     "evalue": "No module named 'google'",
     "output_type": "error",
     "traceback": [
      "\u001b[1;31m---------------------------------------------------------------------------\u001b[0m",
      "\u001b[1;31mModuleNotFoundError\u001b[0m                       Traceback (most recent call last)",
      "\u001b[1;32m<ipython-input-6-c36f5579453e>\u001b[0m in \u001b[0;36m<module>\u001b[1;34m\u001b[0m\n\u001b[1;32m----> 1\u001b[1;33m \u001b[1;32mfrom\u001b[0m \u001b[0mgoogle\u001b[0m\u001b[1;33m.\u001b[0m\u001b[0mcolab\u001b[0m \u001b[1;32mimport\u001b[0m \u001b[0mdrive\u001b[0m\u001b[1;33m\u001b[0m\u001b[1;33m\u001b[0m\u001b[0m\n\u001b[0m\u001b[0;32m      2\u001b[0m \u001b[1;33m\u001b[0m\u001b[0m\n\u001b[0;32m      3\u001b[0m \u001b[0mdrive\u001b[0m\u001b[1;33m.\u001b[0m\u001b[0mmount\u001b[0m\u001b[1;33m(\u001b[0m\u001b[1;34m'/content/drive'\u001b[0m\u001b[1;33m)\u001b[0m\u001b[1;33m\u001b[0m\u001b[1;33m\u001b[0m\u001b[0m\n",
      "\u001b[1;31mModuleNotFoundError\u001b[0m: No module named 'google'"
     ]
    }
   ],
   "source": [
    "from google.colab import drive\n",
    "\n",
    "drive.mount('/content/drive')"
   ]
  },
  {
   "cell_type": "code",
   "execution_count": 2,
   "metadata": {
    "id": "1tNyVm6hGcF2"
   },
   "outputs": [],
   "source": [
    "import pandas as pd"
   ]
  },
  {
   "cell_type": "code",
   "execution_count": 3,
   "metadata": {
    "id": "W1b8nb57Go4n"
   },
   "outputs": [],
   "source": [
    "testcsv = ('/content/drive/MyDrive/github/test.csv')"
   ]
  },
  {
   "cell_type": "code",
   "execution_count": 4,
   "metadata": {
    "colab": {
     "base_uri": "https://localhost:8080/",
     "height": 391
    },
    "id": "Lbj7Ki-fGrxn",
    "outputId": "85fdc445-3182-4941-cd80-52101edd1124"
   },
   "outputs": [
    {
     "ename": "FileNotFoundError",
     "evalue": "[Errno 2] No such file or directory: '/content/drive/MyDrive/github/test.csv'",
     "output_type": "error",
     "traceback": [
      "\u001b[1;31m---------------------------------------------------------------------------\u001b[0m",
      "\u001b[1;31mFileNotFoundError\u001b[0m                         Traceback (most recent call last)",
      "\u001b[1;32m<ipython-input-4-70f4e9393b14>\u001b[0m in \u001b[0;36m<module>\u001b[1;34m\u001b[0m\n\u001b[1;32m----> 1\u001b[1;33m \u001b[0mtest\u001b[0m \u001b[1;33m=\u001b[0m \u001b[0mpd\u001b[0m\u001b[1;33m.\u001b[0m\u001b[0mread_csv\u001b[0m\u001b[1;33m(\u001b[0m\u001b[0mtestcsv\u001b[0m\u001b[1;33m)\u001b[0m\u001b[1;33m\u001b[0m\u001b[1;33m\u001b[0m\u001b[0m\n\u001b[0m\u001b[0;32m      2\u001b[0m \u001b[0mtest\u001b[0m\u001b[1;33m\u001b[0m\u001b[1;33m\u001b[0m\u001b[0m\n",
      "\u001b[1;32mD:\\Anaconda\\lib\\site-packages\\pandas\\io\\parsers.py\u001b[0m in \u001b[0;36mread_csv\u001b[1;34m(filepath_or_buffer, sep, delimiter, header, names, index_col, usecols, squeeze, prefix, mangle_dupe_cols, dtype, engine, converters, true_values, false_values, skipinitialspace, skiprows, skipfooter, nrows, na_values, keep_default_na, na_filter, verbose, skip_blank_lines, parse_dates, infer_datetime_format, keep_date_col, date_parser, dayfirst, cache_dates, iterator, chunksize, compression, thousands, decimal, lineterminator, quotechar, quoting, doublequote, escapechar, comment, encoding, dialect, error_bad_lines, warn_bad_lines, delim_whitespace, low_memory, memory_map, float_precision)\u001b[0m\n\u001b[0;32m    684\u001b[0m     )\n\u001b[0;32m    685\u001b[0m \u001b[1;33m\u001b[0m\u001b[0m\n\u001b[1;32m--> 686\u001b[1;33m     \u001b[1;32mreturn\u001b[0m \u001b[0m_read\u001b[0m\u001b[1;33m(\u001b[0m\u001b[0mfilepath_or_buffer\u001b[0m\u001b[1;33m,\u001b[0m \u001b[0mkwds\u001b[0m\u001b[1;33m)\u001b[0m\u001b[1;33m\u001b[0m\u001b[1;33m\u001b[0m\u001b[0m\n\u001b[0m\u001b[0;32m    687\u001b[0m \u001b[1;33m\u001b[0m\u001b[0m\n\u001b[0;32m    688\u001b[0m \u001b[1;33m\u001b[0m\u001b[0m\n",
      "\u001b[1;32mD:\\Anaconda\\lib\\site-packages\\pandas\\io\\parsers.py\u001b[0m in \u001b[0;36m_read\u001b[1;34m(filepath_or_buffer, kwds)\u001b[0m\n\u001b[0;32m    450\u001b[0m \u001b[1;33m\u001b[0m\u001b[0m\n\u001b[0;32m    451\u001b[0m     \u001b[1;31m# Create the parser.\u001b[0m\u001b[1;33m\u001b[0m\u001b[1;33m\u001b[0m\u001b[1;33m\u001b[0m\u001b[0m\n\u001b[1;32m--> 452\u001b[1;33m     \u001b[0mparser\u001b[0m \u001b[1;33m=\u001b[0m \u001b[0mTextFileReader\u001b[0m\u001b[1;33m(\u001b[0m\u001b[0mfp_or_buf\u001b[0m\u001b[1;33m,\u001b[0m \u001b[1;33m**\u001b[0m\u001b[0mkwds\u001b[0m\u001b[1;33m)\u001b[0m\u001b[1;33m\u001b[0m\u001b[1;33m\u001b[0m\u001b[0m\n\u001b[0m\u001b[0;32m    453\u001b[0m \u001b[1;33m\u001b[0m\u001b[0m\n\u001b[0;32m    454\u001b[0m     \u001b[1;32mif\u001b[0m \u001b[0mchunksize\u001b[0m \u001b[1;32mor\u001b[0m \u001b[0miterator\u001b[0m\u001b[1;33m:\u001b[0m\u001b[1;33m\u001b[0m\u001b[1;33m\u001b[0m\u001b[0m\n",
      "\u001b[1;32mD:\\Anaconda\\lib\\site-packages\\pandas\\io\\parsers.py\u001b[0m in \u001b[0;36m__init__\u001b[1;34m(self, f, engine, **kwds)\u001b[0m\n\u001b[0;32m    944\u001b[0m             \u001b[0mself\u001b[0m\u001b[1;33m.\u001b[0m\u001b[0moptions\u001b[0m\u001b[1;33m[\u001b[0m\u001b[1;34m\"has_index_names\"\u001b[0m\u001b[1;33m]\u001b[0m \u001b[1;33m=\u001b[0m \u001b[0mkwds\u001b[0m\u001b[1;33m[\u001b[0m\u001b[1;34m\"has_index_names\"\u001b[0m\u001b[1;33m]\u001b[0m\u001b[1;33m\u001b[0m\u001b[1;33m\u001b[0m\u001b[0m\n\u001b[0;32m    945\u001b[0m \u001b[1;33m\u001b[0m\u001b[0m\n\u001b[1;32m--> 946\u001b[1;33m         \u001b[0mself\u001b[0m\u001b[1;33m.\u001b[0m\u001b[0m_make_engine\u001b[0m\u001b[1;33m(\u001b[0m\u001b[0mself\u001b[0m\u001b[1;33m.\u001b[0m\u001b[0mengine\u001b[0m\u001b[1;33m)\u001b[0m\u001b[1;33m\u001b[0m\u001b[1;33m\u001b[0m\u001b[0m\n\u001b[0m\u001b[0;32m    947\u001b[0m \u001b[1;33m\u001b[0m\u001b[0m\n\u001b[0;32m    948\u001b[0m     \u001b[1;32mdef\u001b[0m \u001b[0mclose\u001b[0m\u001b[1;33m(\u001b[0m\u001b[0mself\u001b[0m\u001b[1;33m)\u001b[0m\u001b[1;33m:\u001b[0m\u001b[1;33m\u001b[0m\u001b[1;33m\u001b[0m\u001b[0m\n",
      "\u001b[1;32mD:\\Anaconda\\lib\\site-packages\\pandas\\io\\parsers.py\u001b[0m in \u001b[0;36m_make_engine\u001b[1;34m(self, engine)\u001b[0m\n\u001b[0;32m   1176\u001b[0m     \u001b[1;32mdef\u001b[0m \u001b[0m_make_engine\u001b[0m\u001b[1;33m(\u001b[0m\u001b[0mself\u001b[0m\u001b[1;33m,\u001b[0m \u001b[0mengine\u001b[0m\u001b[1;33m=\u001b[0m\u001b[1;34m\"c\"\u001b[0m\u001b[1;33m)\u001b[0m\u001b[1;33m:\u001b[0m\u001b[1;33m\u001b[0m\u001b[1;33m\u001b[0m\u001b[0m\n\u001b[0;32m   1177\u001b[0m         \u001b[1;32mif\u001b[0m \u001b[0mengine\u001b[0m \u001b[1;33m==\u001b[0m \u001b[1;34m\"c\"\u001b[0m\u001b[1;33m:\u001b[0m\u001b[1;33m\u001b[0m\u001b[1;33m\u001b[0m\u001b[0m\n\u001b[1;32m-> 1178\u001b[1;33m             \u001b[0mself\u001b[0m\u001b[1;33m.\u001b[0m\u001b[0m_engine\u001b[0m \u001b[1;33m=\u001b[0m \u001b[0mCParserWrapper\u001b[0m\u001b[1;33m(\u001b[0m\u001b[0mself\u001b[0m\u001b[1;33m.\u001b[0m\u001b[0mf\u001b[0m\u001b[1;33m,\u001b[0m \u001b[1;33m**\u001b[0m\u001b[0mself\u001b[0m\u001b[1;33m.\u001b[0m\u001b[0moptions\u001b[0m\u001b[1;33m)\u001b[0m\u001b[1;33m\u001b[0m\u001b[1;33m\u001b[0m\u001b[0m\n\u001b[0m\u001b[0;32m   1179\u001b[0m         \u001b[1;32melse\u001b[0m\u001b[1;33m:\u001b[0m\u001b[1;33m\u001b[0m\u001b[1;33m\u001b[0m\u001b[0m\n\u001b[0;32m   1180\u001b[0m             \u001b[1;32mif\u001b[0m \u001b[0mengine\u001b[0m \u001b[1;33m==\u001b[0m \u001b[1;34m\"python\"\u001b[0m\u001b[1;33m:\u001b[0m\u001b[1;33m\u001b[0m\u001b[1;33m\u001b[0m\u001b[0m\n",
      "\u001b[1;32mD:\\Anaconda\\lib\\site-packages\\pandas\\io\\parsers.py\u001b[0m in \u001b[0;36m__init__\u001b[1;34m(self, src, **kwds)\u001b[0m\n\u001b[0;32m   2006\u001b[0m         \u001b[0mkwds\u001b[0m\u001b[1;33m[\u001b[0m\u001b[1;34m\"usecols\"\u001b[0m\u001b[1;33m]\u001b[0m \u001b[1;33m=\u001b[0m \u001b[0mself\u001b[0m\u001b[1;33m.\u001b[0m\u001b[0musecols\u001b[0m\u001b[1;33m\u001b[0m\u001b[1;33m\u001b[0m\u001b[0m\n\u001b[0;32m   2007\u001b[0m \u001b[1;33m\u001b[0m\u001b[0m\n\u001b[1;32m-> 2008\u001b[1;33m         \u001b[0mself\u001b[0m\u001b[1;33m.\u001b[0m\u001b[0m_reader\u001b[0m \u001b[1;33m=\u001b[0m \u001b[0mparsers\u001b[0m\u001b[1;33m.\u001b[0m\u001b[0mTextReader\u001b[0m\u001b[1;33m(\u001b[0m\u001b[0msrc\u001b[0m\u001b[1;33m,\u001b[0m \u001b[1;33m**\u001b[0m\u001b[0mkwds\u001b[0m\u001b[1;33m)\u001b[0m\u001b[1;33m\u001b[0m\u001b[1;33m\u001b[0m\u001b[0m\n\u001b[0m\u001b[0;32m   2009\u001b[0m         \u001b[0mself\u001b[0m\u001b[1;33m.\u001b[0m\u001b[0munnamed_cols\u001b[0m \u001b[1;33m=\u001b[0m \u001b[0mself\u001b[0m\u001b[1;33m.\u001b[0m\u001b[0m_reader\u001b[0m\u001b[1;33m.\u001b[0m\u001b[0munnamed_cols\u001b[0m\u001b[1;33m\u001b[0m\u001b[1;33m\u001b[0m\u001b[0m\n\u001b[0;32m   2010\u001b[0m \u001b[1;33m\u001b[0m\u001b[0m\n",
      "\u001b[1;32mpandas\\_libs\\parsers.pyx\u001b[0m in \u001b[0;36mpandas._libs.parsers.TextReader.__cinit__\u001b[1;34m()\u001b[0m\n",
      "\u001b[1;32mpandas\\_libs\\parsers.pyx\u001b[0m in \u001b[0;36mpandas._libs.parsers.TextReader._setup_parser_source\u001b[1;34m()\u001b[0m\n",
      "\u001b[1;31mFileNotFoundError\u001b[0m: [Errno 2] No such file or directory: '/content/drive/MyDrive/github/test.csv'"
     ]
    }
   ],
   "source": [
    "test = pd.read_csv(testcsv)\n",
    "test"
   ]
  },
  {
   "cell_type": "code",
   "execution_count": null,
   "metadata": {
    "colab": {
     "base_uri": "https://localhost:8080/",
     "height": 191
    },
    "id": "8XhHXPZ-8N2h",
    "outputId": "c9d311c8-f053-413d-e970-c4913fc75215"
   },
   "outputs": [],
   "source": [
    "test.head()"
   ]
  },
  {
   "cell_type": "code",
   "execution_count": null,
   "metadata": {
    "id": "asO2vWcdGtkB"
   },
   "outputs": [],
   "source": [
    "traincsv = ('/content/drive/MyDrive/github/train.csv')"
   ]
  },
  {
   "cell_type": "code",
   "execution_count": null,
   "metadata": {
    "colab": {
     "base_uri": "https://localhost:8080/",
     "height": 391
    },
    "id": "QAtJS97YGxKF",
    "outputId": "539ca547-a870-4434-c346-174e015875e2"
   },
   "outputs": [],
   "source": [
    "train = pd.read_csv(traincsv)\n",
    "train"
   ]
  },
  {
   "cell_type": "code",
   "execution_count": null,
   "metadata": {
    "colab": {
     "base_uri": "https://localhost:8080/"
    },
    "id": "UoHZTFP2GzNq",
    "outputId": "7f0cde88-d469-4fbd-a753-e11a45a45dcc"
   },
   "outputs": [],
   "source": [
    "test.columns"
   ]
  },
  {
   "cell_type": "code",
   "execution_count": null,
   "metadata": {
    "colab": {
     "base_uri": "https://localhost:8080/"
    },
    "id": "snxvgff6G8Ks",
    "outputId": "278bacdb-5973-4cf8-b376-c2f9ab88c06c"
   },
   "outputs": [],
   "source": [
    "train.columns"
   ]
  },
  {
   "cell_type": "code",
   "execution_count": null,
   "metadata": {
    "colab": {
     "base_uri": "https://localhost:8080/"
    },
    "id": "DYJNMv7VHPty",
    "outputId": "72135d25-d583-4a9c-b065-ad1552f9a594"
   },
   "outputs": [],
   "source": [
    "\n",
    "print(set(test.columns)-set(train.columns))\n",
    "print(set(train.columns)-set(test.columns))\n",
    "print(train[\"price_range\"].describe())"
   ]
  },
  {
   "cell_type": "code",
   "execution_count": null,
   "metadata": {
    "id": "ZOt8BufMHZtC"
   },
   "outputs": [],
   "source": [
    "import numpy as np"
   ]
  },
  {
   "cell_type": "code",
   "execution_count": null,
   "metadata": {
    "colab": {
     "base_uri": "https://localhost:8080/"
    },
    "id": "jniyTxL6HS82",
    "outputId": "6904f1cc-8a7d-4195-a17a-c7d76bb31d3f"
   },
   "outputs": [],
   "source": [
    "train_price_y = np.array(train[\"price_range\"])\n",
    "print((train_price_y))\n",
    "data = train_price_y\n",
    "shape = (data.size, data.max()+1)\n",
    "one_hot_y = np.zeros(shape)\n",
    "rows = np.arange(data.size)\n",
    "one_hot_y[rows, data] = 1\n",
    "print(one_hot_y)"
   ]
  },
  {
   "cell_type": "code",
   "execution_count": null,
   "metadata": {
    "id": "UjooD1aeHW2N"
   },
   "outputs": [],
   "source": [
    "test_x = test.drop(columns=[\"id\"])\n",
    "train_x = train.drop(columns=[\"price_range\"])"
   ]
  },
  {
   "cell_type": "code",
   "execution_count": null,
   "metadata": {
    "colab": {
     "base_uri": "https://localhost:8080/"
    },
    "id": "Mcl1FhuAHiHD",
    "outputId": "92a49540-89dd-4ead-e99b-fcebb2acf4c2"
   },
   "outputs": [],
   "source": [
    "# doing as a linear regression\n",
    "from tensorflow import keras\n",
    "from keras.models import Sequential\n",
    "from keras.layers import Dense\n",
    "model = Sequential()\n",
    "model.add(Dense(len(train_x.columns), input_dim=len(train_x.columns), activation='relu'))\n",
    "model.add(Dense(len(train_x.columns)/2, input_dim=len(train_x.columns), activation='sigmoid'))\n",
    "model.add(Dense(4, activation='softmax'))\n",
    "model.compile(loss='categorical_crossentropy', optimizer='adam', metrics=['accuracy'])\n",
    "history = model.fit(train_x, one_hot_y, epochs=500, batch_size=64)"
   ]
  },
  {
   "cell_type": "code",
   "execution_count": null,
   "metadata": {
    "id": "kh_tmqBtHmTv"
   },
   "outputs": [],
   "source": [
    "nn_predict = model.predict(train_x)\n",
    "# a = accuracy_score(pred,test)\n",
    "# print('Accuracy is:', a*100)"
   ]
  },
  {
   "cell_type": "code",
   "execution_count": null,
   "metadata": {
    "colab": {
     "base_uri": "https://localhost:8080/"
    },
    "id": "_XTCkm_6HuIh",
    "outputId": "90a19d90-5583-45e1-c835-d92f0b41e3a7"
   },
   "outputs": [],
   "source": [
    "from sklearn.neighbors import KNeighborsClassifier\n",
    "model = KNeighborsClassifier(n_neighbors=10)\n",
    "model.fit(train_x,train_price_y)\n",
    "\n",
    "#cheat\n",
    "y_model = model.predict(train_x)\n",
    "from sklearn.metrics import accuracy_score\n",
    "accuracy_score(train_price_y, y_model)"
   ]
  },
  {
   "cell_type": "code",
   "execution_count": null,
   "metadata": {
    "id": "B7VvV3lhHwuE"
   },
   "outputs": [],
   "source": [
    "from sklearn.model_selection import train_test_split\n",
    "x1,x2,y1,y2 = train_test_split(train_x,train_price_y, random_state=64, train_size=0.7)"
   ]
  },
  {
   "cell_type": "code",
   "execution_count": null,
   "metadata": {
    "colab": {
     "base_uri": "https://localhost:8080/"
    },
    "id": "hXa6H_rOH1H_",
    "outputId": "3a3c26d3-2516-4dad-f514-0a711c6cf7bf"
   },
   "outputs": [],
   "source": [
    "from sklearn.neighbors import KNeighborsClassifier\n",
    "model = KNeighborsClassifier(n_neighbors=50)\n",
    "model.fit(x1,y1)\n",
    "\n",
    "#predict\n",
    "y_model = model.predict(x2)\n",
    "from sklearn.metrics import accuracy_score\n",
    "accuracy_score(y2, y_model)"
   ]
  },
  {
   "cell_type": "code",
   "execution_count": null,
   "metadata": {
    "colab": {
     "base_uri": "https://localhost:8080/"
    },
    "id": "ZvuQyMhiH40_",
    "outputId": "7357ed28-5513-4227-8cb5-2ac32caa5ea9"
   },
   "outputs": [],
   "source": [
    "X = train_x\n",
    "y = train_price_y\n",
    "from sklearn.model_selection import cross_val_score\n",
    "print(cross_val_score(model, X,y,cv=5))\n",
    "\n",
    "from sklearn.model_selection import LeaveOneOut\n",
    "scores = cross_val_score(model, X,y,cv=LeaveOneOut().split(X))\n",
    "print(scores.mean())"
   ]
  },
  {
   "cell_type": "markdown",
   "metadata": {
    "id": "6PC-YmxeIBzA"
   },
   "source": [
    "Grid Search"
   ]
  },
  {
   "cell_type": "code",
   "execution_count": null,
   "metadata": {
    "colab": {
     "base_uri": "https://localhost:8080/"
    },
    "id": "VBhFNxfWH7zw",
    "outputId": "001f75b9-75ac-4899-8ef4-0160c6bdf466"
   },
   "outputs": [],
   "source": [
    "from sklearn.model_selection import GridSearchCV\n",
    "param_grid = {\"n_neighbors\":np.arange(1,100)}\n",
    "grid = GridSearchCV(KNeighborsClassifier(), param_grid, cv=7)\n",
    "grid.fit(X,y)\n"
   ]
  },
  {
   "cell_type": "code",
   "execution_count": null,
   "metadata": {
    "colab": {
     "base_uri": "https://localhost:8080/"
    },
    "id": "l3eOSa36IHCx",
    "outputId": "1c049abe-f21e-4870-c69a-b5a805e09e04"
   },
   "outputs": [],
   "source": [
    "print(grid.best_params_)\n",
    "model = grid.best_estimator_\n",
    "import matplotlib.pyplot as plt"
   ]
  },
  {
   "cell_type": "code",
   "execution_count": null,
   "metadata": {
    "id": "Bx1LXNLUIMDq"
   },
   "outputs": [],
   "source": [
    "y_test = model.fit(x1,y1).predict(x2)"
   ]
  },
  {
   "cell_type": "code",
   "execution_count": null,
   "metadata": {
    "colab": {
     "base_uri": "https://localhost:8080/"
    },
    "id": "EW15FrU5IPUx",
    "outputId": "9ad08e07-5716-482d-c49f-9298242641f6"
   },
   "outputs": [],
   "source": [
    "accuracy_score(y2, y_test)"
   ]
  },
  {
   "cell_type": "markdown",
   "metadata": {},
   "source": [
    "Source code reference:2110446 Data Science and Data engineering (Computer engineering)"
   ]
  },
  {
   "cell_type": "code",
   "execution_count": null,
   "metadata": {
    "id": "ecG9F2bhISd0"
   },
   "outputs": [],
   "source": [
    "from sklearn.svm import SVC"
   ]
  },
  {
   "cell_type": "code",
   "execution_count": null,
   "metadata": {
    "id": "LvV6A22gIeM_"
   },
   "outputs": [],
   "source": [
    "import time\n",
    "import datetime\n",
    "\n",
    "import numpy as np\n",
    "import pandas as pd\n",
    "pd.set_option('display.max_colwidth', None)\n",
    "\n",
    "import matplotlib.pyplot as plt\n",
    "plt.style.use('seaborn')\n",
    "\n",
    "from sklearn.model_selection import train_test_split\n",
    "X_train,X_test,y_train,y_test = train_test_split(train_x,train_price_y, random_state=64, train_size=0.7)"
   ]
  },
  {
   "cell_type": "code",
   "execution_count": null,
   "metadata": {
    "colab": {
     "base_uri": "https://localhost:8080/"
    },
    "id": "EmAAAYLyIiXv",
    "outputId": "e88e993a-bf46-437a-99b1-2c937310f051"
   },
   "outputs": [],
   "source": [
    "C = 1 #@param {type:\"slider\", min:1.0, max:3.0, step:0.1}\n",
    "kernel = \"linear\" #@param ['linear', 'poly', 'rbf']\n",
    "gamma = \"auto\"  #@param ['scale', 'auto']\n",
    "\n",
    "svm = SVC(\n",
    "  C=C,\n",
    "  kernel=kernel,\n",
    "  gamma=gamma,\n",
    "  cache_size=4096,\n",
    "   random_state=0\n",
    ")\n",
    "\n",
    "svm_start_time = time.time()\n",
    "model=svm.fit(X_train,y_train)\n",
    "svm_end_time = time.time()\n",
    "print(f\"Training Time: {datetime.timedelta(seconds=svm_end_time-svm_start_time)}\")"
   ]
  },
  {
   "cell_type": "code",
   "execution_count": null,
   "metadata": {
    "colab": {
     "base_uri": "https://localhost:8080/"
    },
    "id": "2mSm6rReIm7K",
    "outputId": "c2a4582b-90f3-4607-f7fb-3e75e814f6f7"
   },
   "outputs": [],
   "source": [
    "#predict\n",
    "y_model = model.predict(X_test)\n",
    "from sklearn.metrics import accuracy_score\n",
    "accuracy_score(y_test, y_model)"
   ]
  },
  {
   "cell_type": "code",
   "execution_count": null,
   "metadata": {
    "id": "dm036poSIt4v"
   },
   "outputs": [],
   "source": [
    "# Predict as Class\n",
    "train_predict = svm.predict(X_train)\n",
    "test_predict = svm.predict(X_test)"
   ]
  },
  {
   "cell_type": "code",
   "execution_count": null,
   "metadata": {
    "colab": {
     "base_uri": "https://localhost:8080/"
    },
    "id": "lBe_Nlq6I4OU",
    "outputId": "aee7d2c7-9633-4ba8-fe84-cbe3b865c392"
   },
   "outputs": [],
   "source": [
    "from sklearn.metrics import confusion_matrix\n",
    "\n",
    "confusion_matrix(y_test, test_predict, labels=[1, 0])"
   ]
  },
  {
   "cell_type": "code",
   "execution_count": null,
   "metadata": {
    "colab": {
     "base_uri": "https://localhost:8080/"
    },
    "id": "wEujX5nDI9oP",
    "outputId": "2aae8e5f-c186-48a0-cab0-2aa44f403a28"
   },
   "outputs": [],
   "source": [
    "from sklearn.metrics import classification_report\n",
    "\n",
    "print(classification_report(y_test, test_predict))"
   ]
  },
  {
   "cell_type": "code",
   "execution_count": null,
   "metadata": {
    "id": "inw21e5OGk7f"
   },
   "outputs": [],
   "source": [
    "y_train = np.array(train[\"price_range\"])"
   ]
  },
  {
   "cell_type": "code",
   "execution_count": null,
   "metadata": {
    "colab": {
     "base_uri": "https://localhost:8080/",
     "height": 566
    },
    "id": "WJ0xWMgSJCIr",
    "outputId": "1885339f-8916-46cc-c1a6-7aa6e191c31e"
   },
   "outputs": [],
   "source": [
    "C = 1\n",
    "kernel = \"linear\" #@param ['linear', 'poly', 'rbf']\n",
    "gamma = \"scale\"\n",
    "\n",
    "# x_label = 'sepal length (cm)' #@param ['sepal length (cm)', 'sepal width (cm)', 'petal length (cm)', 'petal width (cm)']\n",
    "# y_label = 'petal length (cm)' #@param ['sepal length (cm)', 'sepal width (cm)', 'petal length (cm)', 'petal width (cm)']\n",
    "\n",
    "\n",
    "x_label = 'ram' #@param ['Pclass', 'Sex', 'Age', 'SibSp', 'Parch', 'Fare']\n",
    "y_label = 'int_memory' #@param ['Pclass', 'Sex', 'Age', 'SibSp', 'Parch', 'Fare']\n",
    "\n",
    "x_idx = train.columns.to_list().index(x_label)\n",
    "y_idx = train.columns.to_list().index(y_label)\n",
    "\n",
    "# Script from https://scikit-learn.org/stable/auto_examples/neighbors/plot_classification.html\n",
    "\n",
    "from matplotlib import cm\n",
    "from matplotlib.colors import ListedColormap\n",
    "cmap_val = np.linspace(0.0, 1.0, 20)\n",
    "cmap_light = ListedColormap(cm.get_cmap(plt.get_cmap('tab20'))(cmap_val)[1:5:2])\n",
    "cmap_bold = ListedColormap(cm.get_cmap(plt.get_cmap('tab20'))(cmap_val)[:4:2])\n",
    "h = 300  # step size in the mesh\n",
    "\n",
    "model = SVC(\n",
    "  C=C,\n",
    "  kernel=kernel,\n",
    "  gamma=gamma,\n",
    "  cache_size=4096,\n",
    "    random_state=0\n",
    ")\n",
    "model.fit(train.iloc[:, [x_idx, y_idx]], y_train)\n",
    "x_min, x_max = train.iloc[:, x_idx].min() - 1, train.iloc[:, x_idx].max() + 1\n",
    "y_min, y_max = train.iloc[:, y_idx].min() - 1, train.iloc[:, y_idx].max() + 1\n",
    "xx, yy = np.meshgrid(\n",
    "  np.arange(x_min, x_max, (x_max-x_min)/h),\n",
    "  np.arange(y_min, y_max, (y_max-y_min)/h)\n",
    ")\n",
    "Z = model.predict(np.c_[xx.ravel(), yy.ravel()])\n",
    "\n",
    "# Put the result into a color plot\n",
    "Z = Z.reshape(xx.shape)\n",
    "plt.figure(figsize=(8, 8), dpi=80)\n",
    "plt.pcolormesh(xx, yy, Z, cmap=cmap_light)\n",
    "\n",
    "# Plot also the training points\n",
    "plt.scatter(\n",
    "  train.iloc[:, x_idx],\n",
    "  train.iloc[:, y_idx],\n",
    "  c=y_train,\n",
    "  cmap=cmap_bold,\n",
    "  edgecolor='k',\n",
    "  s=40\n",
    ")\n",
    "plt.xlabel(x_label)\n",
    "plt.xlim(xx.min(), xx.max())\n",
    "plt.ylabel(y_label)\n",
    "plt.ylim(yy.min(), yy.max())\n",
    "plt.title(f\"3-Class classification (C = {C}, kernel = {kernel})\")\n",
    "plt.show()"
   ]
  },
  {
   "cell_type": "markdown",
   "metadata": {
    "id": "qf01Fc3SGgln"
   },
   "source": [
    "Reference:https://www.kaggle.com/sercanyesiloz/mobile-price-prediction"
   ]
  },
  {
   "cell_type": "code",
   "execution_count": null,
   "metadata": {},
   "outputs": [],
   "source": [
    "! pip install plotly"
   ]
  },
  {
   "cell_type": "code",
   "execution_count": null,
   "metadata": {},
   "outputs": [],
   "source": [
    "import plotly.graph_objs as go\n",
    "from plotly.offline import iplot\n",
    "train_0 = train[train.price_range == 0]\n",
    "train_1 = train[train.price_range == 1]\n",
    "train_2 = train[train.price_range == 2]\n",
    "train_3 = train[train.price_range == 3]\n",
    "\n",
    "trace1 =go.Scatter(\n",
    "                    y = train_0.battery_power,\n",
    "                    x = train_0.ram,\n",
    "                    mode = \"markers\",\n",
    "                    name = \"Price Range: 0\",\n",
    "                    marker = dict(color = 'rgba(240, 136, 200, 0.8)'),\n",
    "                    text= train_0.price_range)\n",
    "\n",
    "trace2 =go.Scatter(\n",
    "                    y = train_1.battery_power,\n",
    "                    x = train_1.ram,\n",
    "                    mode = \"markers\",\n",
    "                    name = \"Price Range: 1\",\n",
    "                    marker = dict(color = 'rgba(255, 128, 2, 0.8)'),\n",
    "                    text= train_1.price_range)\n",
    "\n",
    "trace3 =go.Scatter(\n",
    "                    y = train_2.battery_power,\n",
    "                    x = train_2.ram,\n",
    "                    mode = \"markers\",\n",
    "                    name = \"Price Range: 2\",\n",
    "                    marker = dict(color = 'rgba(0, 240, 170, 0.8)'),\n",
    "                    text= train_2.price_range)\n",
    "\n",
    "trace4 =go.Scatter(\n",
    "                    y = train_3.battery_power,\n",
    "                    x = train_3.ram,\n",
    "                    mode = \"markers\",\n",
    "                    name = \"Price Range: 3\",\n",
    "                    marker = dict(color = 'rgba(50, 70, 190, 0.8)'),\n",
    "                    text= train_3.price_range) \n",
    "\n",
    "\n",
    "data = [trace1, trace2, trace3, trace4]\n",
    "\n",
    "layout = dict(title = 'Ram - Battery Power - Price Range',\n",
    "              xaxis= dict(title= 'Ram',\n",
    "                          ticklen= 5,zeroline= False),\n",
    "              yaxis= dict(title= 'Battery Power',\n",
    "                          ticklen= 5,zeroline= False),\n",
    "             autosize=False,\n",
    "             width=700,\n",
    "             height=450,)\n",
    "fig = dict(data = data, layout = layout)\n",
    "    \n",
    "iplot(fig)"
   ]
  }
 ],
 "metadata": {
  "colab": {
   "name": "test pp hw group.ipynb",
   "provenance": []
  },
  "kernelspec": {
   "display_name": "Python 3",
   "language": "python",
   "name": "python3"
  },
  "language_info": {
   "codemirror_mode": {
    "name": "ipython",
    "version": 3
   },
   "file_extension": ".py",
   "mimetype": "text/x-python",
   "name": "python",
   "nbconvert_exporter": "python",
   "pygments_lexer": "ipython3",
   "version": "3.8.5"
  }
 },
 "nbformat": 4,
 "nbformat_minor": 1
}
